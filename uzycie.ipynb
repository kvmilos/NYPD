{
 "cells": [
  {
   "cell_type": "code",
   "execution_count": 1,
   "id": "f6ab9e98-f594-4dbd-ae40-6af380b4fa26",
   "metadata": {},
   "outputs": [
    {
     "name": "stdout",
     "output_type": "stream",
     "text": [
      "Processing ./kod\r\n",
      "  Preparing metadata (setup.py) ... \u001B[?25ldone\r\n",
      "\u001B[?25hRequirement already satisfied: numpy in /Library/Frameworks/Python.framework/Versions/3.9/lib/python3.9/site-packages (from NYPD-paczka==0.0.1) (1.23.5)\r\n",
      "Requirement already satisfied: pandas in /Library/Frameworks/Python.framework/Versions/3.9/lib/python3.9/site-packages (from NYPD-paczka==0.0.1) (1.5.2)\r\n",
      "Requirement already satisfied: python-dateutil>=2.8.1 in /Library/Frameworks/Python.framework/Versions/3.9/lib/python3.9/site-packages (from pandas->NYPD-paczka==0.0.1) (2.8.2)\r\n",
      "Requirement already satisfied: pytz>=2020.1 in /Library/Frameworks/Python.framework/Versions/3.9/lib/python3.9/site-packages (from pandas->NYPD-paczka==0.0.1) (2022.6)\r\n",
      "Requirement already satisfied: six>=1.5 in /Library/Frameworks/Python.framework/Versions/3.9/lib/python3.9/site-packages (from python-dateutil>=2.8.1->pandas->NYPD-paczka==0.0.1) (1.16.0)\r\n",
      "Installing collected packages: NYPD-paczka\r\n",
      "  Attempting uninstall: NYPD-paczka\r\n",
      "    Found existing installation: NYPD-paczka 0.0.1\r\n",
      "    Uninstalling NYPD-paczka-0.0.1:\r\n",
      "      Successfully uninstalled NYPD-paczka-0.0.1\r\n",
      "\u001B[33m  DEPRECATION: NYPD-paczka is being installed using the legacy 'setup.py install' method, because it does not have a 'pyproject.toml' and the 'wheel' package is not installed. pip 23.1 will enforce this behaviour change. A possible replacement is to enable the '--use-pep517' option. Discussion can be found at https://github.com/pypa/pip/issues/8559\u001B[0m\u001B[33m\r\n",
      "\u001B[0m  Running setup.py install for NYPD-paczka ... \u001B[?25ldone\r\n",
      "\u001B[?25hSuccessfully installed NYPD-paczka-0.0.1\r\n",
      "\r\n",
      "\u001B[1m[\u001B[0m\u001B[34;49mnotice\u001B[0m\u001B[1;39;49m]\u001B[0m\u001B[39;49m A new release of pip available: \u001B[0m\u001B[31;49m22.3.1\u001B[0m\u001B[39;49m -> \u001B[0m\u001B[32;49m23.0\u001B[0m\r\n",
      "\u001B[1m[\u001B[0m\u001B[34;49mnotice\u001B[0m\u001B[1;39;49m]\u001B[0m\u001B[39;49m To update, run: \u001B[0m\u001B[32;49mpip install --upgrade pip\u001B[0m\r\n"
     ]
    }
   ],
   "source": [
    "#instalacja paczki\n",
    "!pip install ./kod"
   ]
  },
  {
   "cell_type": "code",
   "execution_count": 2,
   "id": "54b7b860-5a6d-477d-96d4-05e923bfe8f9",
   "metadata": {},
   "outputs": [],
   "source": [
    "#import paczki oraz argparse (żeby sprawdzić na danych plikach)\n",
    "from paczka import dane, pliki, analizy\n",
    "import argparse as ap"
   ]
  },
  {
   "cell_type": "code",
   "execution_count": 3,
   "id": "9df33da5-d51b-45e1-88bd-3338797cd7fa",
   "metadata": {},
   "outputs": [],
   "source": [
    "parser = ap.ArgumentParser()\n",
    "parser.add_argument(\"GDP\")\n",
    "parser.add_argument(\"Population\")\n",
    "parser.add_argument(\"Emissions\")\n",
    "parser.add_argument(\"rangemin\")\n",
    "parser.add_argument(\"rangemax\")\n",
    "args = parser.parse_args([\"./dane/API_NY.GDP.MKTP.CD_DS2_en_csv_v2_4751562.csv\",\n",
    "                  \"./dane/API_SP.POP.TOTL_DS2_en_csv_v2_4751604.csv\",\n",
    "                  \"./dane/fossil-fuel-co2-emissions-by-nation_csv.csv\",\n",
    "                  \"1980\",\n",
    "                  \"2005\"])"
   ]
  },
  {
   "cell_type": "code",
   "execution_count": 4,
   "id": "877a6d0e-a58b-436a-b728-5f369ee1e9bd",
   "metadata": {},
   "outputs": [],
   "source": [
    "#wczytanie plików\n",
    "gdp, pop, co2, rangemin, rangemax = pliki.wczytaj_dane(args)"
   ]
  },
  {
   "cell_type": "code",
   "execution_count": 5,
   "id": "5d92c3f9-891d-450f-b1b2-412e8c886a33",
   "metadata": {},
   "outputs": [
    {
     "data": {
      "text/plain": "                  Country Name Country Code     Indicator Name  \\\n0                        Aruba          ABW  GDP (current US$)   \n1  Africa Eastern and Southern          AFE  GDP (current US$)   \n2                  Afghanistan          AFG  GDP (current US$)   \n3   Africa Western and Central          AFW  GDP (current US$)   \n4                       Angola          AGO  GDP (current US$)   \n\n   Indicator Code          1960          1961          1962          1963  \\\n0  NY.GDP.MKTP.CD           NaN           NaN           NaN           NaN   \n1  NY.GDP.MKTP.CD  2.129059e+10  2.180847e+10  2.370702e+10  2.821004e+10   \n2  NY.GDP.MKTP.CD  5.377778e+08  5.488889e+08  5.466667e+08  7.511112e+08   \n3  NY.GDP.MKTP.CD  1.040414e+10  1.112789e+10  1.194319e+10  1.267633e+10   \n4  NY.GDP.MKTP.CD           NaN           NaN           NaN           NaN   \n\n           1964          1965  ...          2013          2014          2015  \\\n0           NaN           NaN  ...  2.727933e+09  2.791061e+09  2.963128e+09   \n1  2.611879e+10  2.968217e+10  ...  9.839370e+11  1.003679e+12  9.242525e+11   \n2  8.000000e+08  1.006667e+09  ...  2.014640e+10  2.049713e+10  1.913421e+10   \n3  1.383837e+10  1.486223e+10  ...  8.207927e+11  8.649905e+11  7.607345e+11   \n4           NaN           NaN  ...  1.334016e+11  1.372444e+11  8.721929e+10   \n\n           2016          2017          2018          2019          2020  \\\n0  2.983799e+09  3.092179e+09  3.202235e+09  3.310056e+09  2.496648e+09   \n1  8.823551e+11  1.020647e+12  9.910223e+11  9.975340e+11  9.216459e+11   \n2  1.811656e+10  1.875347e+10  1.805323e+10  1.879945e+10  2.011614e+10   \n3  6.905464e+11  6.837487e+11  7.416899e+11  7.945430e+11  7.844457e+11   \n4  4.984049e+10  6.897276e+10  7.779294e+10  6.930910e+10  5.361907e+10   \n\n           2021  Unnamed: 66  \n0           NaN          NaN  \n1  1.082096e+12          NaN  \n2           NaN          NaN  \n3  8.358084e+11          NaN  \n4  7.254699e+10          NaN  \n\n[5 rows x 67 columns]",
      "text/html": "<div>\n<style scoped>\n    .dataframe tbody tr th:only-of-type {\n        vertical-align: middle;\n    }\n\n    .dataframe tbody tr th {\n        vertical-align: top;\n    }\n\n    .dataframe thead th {\n        text-align: right;\n    }\n</style>\n<table border=\"1\" class=\"dataframe\">\n  <thead>\n    <tr style=\"text-align: right;\">\n      <th></th>\n      <th>Country Name</th>\n      <th>Country Code</th>\n      <th>Indicator Name</th>\n      <th>Indicator Code</th>\n      <th>1960</th>\n      <th>1961</th>\n      <th>1962</th>\n      <th>1963</th>\n      <th>1964</th>\n      <th>1965</th>\n      <th>...</th>\n      <th>2013</th>\n      <th>2014</th>\n      <th>2015</th>\n      <th>2016</th>\n      <th>2017</th>\n      <th>2018</th>\n      <th>2019</th>\n      <th>2020</th>\n      <th>2021</th>\n      <th>Unnamed: 66</th>\n    </tr>\n  </thead>\n  <tbody>\n    <tr>\n      <th>0</th>\n      <td>Aruba</td>\n      <td>ABW</td>\n      <td>GDP (current US$)</td>\n      <td>NY.GDP.MKTP.CD</td>\n      <td>NaN</td>\n      <td>NaN</td>\n      <td>NaN</td>\n      <td>NaN</td>\n      <td>NaN</td>\n      <td>NaN</td>\n      <td>...</td>\n      <td>2.727933e+09</td>\n      <td>2.791061e+09</td>\n      <td>2.963128e+09</td>\n      <td>2.983799e+09</td>\n      <td>3.092179e+09</td>\n      <td>3.202235e+09</td>\n      <td>3.310056e+09</td>\n      <td>2.496648e+09</td>\n      <td>NaN</td>\n      <td>NaN</td>\n    </tr>\n    <tr>\n      <th>1</th>\n      <td>Africa Eastern and Southern</td>\n      <td>AFE</td>\n      <td>GDP (current US$)</td>\n      <td>NY.GDP.MKTP.CD</td>\n      <td>2.129059e+10</td>\n      <td>2.180847e+10</td>\n      <td>2.370702e+10</td>\n      <td>2.821004e+10</td>\n      <td>2.611879e+10</td>\n      <td>2.968217e+10</td>\n      <td>...</td>\n      <td>9.839370e+11</td>\n      <td>1.003679e+12</td>\n      <td>9.242525e+11</td>\n      <td>8.823551e+11</td>\n      <td>1.020647e+12</td>\n      <td>9.910223e+11</td>\n      <td>9.975340e+11</td>\n      <td>9.216459e+11</td>\n      <td>1.082096e+12</td>\n      <td>NaN</td>\n    </tr>\n    <tr>\n      <th>2</th>\n      <td>Afghanistan</td>\n      <td>AFG</td>\n      <td>GDP (current US$)</td>\n      <td>NY.GDP.MKTP.CD</td>\n      <td>5.377778e+08</td>\n      <td>5.488889e+08</td>\n      <td>5.466667e+08</td>\n      <td>7.511112e+08</td>\n      <td>8.000000e+08</td>\n      <td>1.006667e+09</td>\n      <td>...</td>\n      <td>2.014640e+10</td>\n      <td>2.049713e+10</td>\n      <td>1.913421e+10</td>\n      <td>1.811656e+10</td>\n      <td>1.875347e+10</td>\n      <td>1.805323e+10</td>\n      <td>1.879945e+10</td>\n      <td>2.011614e+10</td>\n      <td>NaN</td>\n      <td>NaN</td>\n    </tr>\n    <tr>\n      <th>3</th>\n      <td>Africa Western and Central</td>\n      <td>AFW</td>\n      <td>GDP (current US$)</td>\n      <td>NY.GDP.MKTP.CD</td>\n      <td>1.040414e+10</td>\n      <td>1.112789e+10</td>\n      <td>1.194319e+10</td>\n      <td>1.267633e+10</td>\n      <td>1.383837e+10</td>\n      <td>1.486223e+10</td>\n      <td>...</td>\n      <td>8.207927e+11</td>\n      <td>8.649905e+11</td>\n      <td>7.607345e+11</td>\n      <td>6.905464e+11</td>\n      <td>6.837487e+11</td>\n      <td>7.416899e+11</td>\n      <td>7.945430e+11</td>\n      <td>7.844457e+11</td>\n      <td>8.358084e+11</td>\n      <td>NaN</td>\n    </tr>\n    <tr>\n      <th>4</th>\n      <td>Angola</td>\n      <td>AGO</td>\n      <td>GDP (current US$)</td>\n      <td>NY.GDP.MKTP.CD</td>\n      <td>NaN</td>\n      <td>NaN</td>\n      <td>NaN</td>\n      <td>NaN</td>\n      <td>NaN</td>\n      <td>NaN</td>\n      <td>...</td>\n      <td>1.334016e+11</td>\n      <td>1.372444e+11</td>\n      <td>8.721929e+10</td>\n      <td>4.984049e+10</td>\n      <td>6.897276e+10</td>\n      <td>7.779294e+10</td>\n      <td>6.930910e+10</td>\n      <td>5.361907e+10</td>\n      <td>7.254699e+10</td>\n      <td>NaN</td>\n    </tr>\n  </tbody>\n</table>\n<p>5 rows × 67 columns</p>\n</div>"
     },
     "metadata": {},
     "output_type": "display_data"
    },
    {
     "data": {
      "text/plain": "                  Country Name Country Code     Indicator Name Indicator Code  \\\n0                        Aruba          ABW  Population, total    SP.POP.TOTL   \n1  Africa Eastern and Southern          AFE  Population, total    SP.POP.TOTL   \n2                  Afghanistan          AFG  Population, total    SP.POP.TOTL   \n3   Africa Western and Central          AFW  Population, total    SP.POP.TOTL   \n4                       Angola          AGO  Population, total    SP.POP.TOTL   \n\n          1960         1961         1962         1963         1964  \\\n0      54208.0      55434.0      56234.0      56699.0      57029.0   \n1  130836765.0  134159786.0  137614644.0  141202036.0  144920186.0   \n2    8996967.0    9169406.0    9351442.0    9543200.0    9744772.0   \n3   96396419.0   98407221.0  100506960.0  102691339.0  104953470.0   \n4    5454938.0    5531451.0    5608499.0    5679409.0    5734995.0   \n\n          1965  ...         2013         2014         2015         2016  \\\n0      57357.0  ...     103165.0     103776.0     104339.0     104865.0   \n1  148769974.0  ...  562601578.0  578075373.0  593871847.0  609978946.0   \n2    9956318.0  ...   32269592.0   33370804.0   34413603.0   35383028.0   \n3  107289875.0  ...  380437896.0  390882979.0  401586651.0  412551299.0   \n4    5770573.0  ...   26015786.0   26941773.0   27884380.0   28842482.0   \n\n          2017         2018         2019         2020         2021  \\\n0     105361.0     105846.0     106310.0     106766.0     107195.0   \n1  626392880.0  643090131.0  660046272.0  677243299.0  694665117.0   \n2   36296111.0   37171922.0   38041757.0   38928341.0   39835428.0   \n3  423769930.0  435229381.0  446911598.0  458803476.0  470898870.0   \n4   29816769.0   30809787.0   31825299.0   32866268.0   33933611.0   \n\n   Unnamed: 66  \n0          NaN  \n1          NaN  \n2          NaN  \n3          NaN  \n4          NaN  \n\n[5 rows x 67 columns]",
      "text/html": "<div>\n<style scoped>\n    .dataframe tbody tr th:only-of-type {\n        vertical-align: middle;\n    }\n\n    .dataframe tbody tr th {\n        vertical-align: top;\n    }\n\n    .dataframe thead th {\n        text-align: right;\n    }\n</style>\n<table border=\"1\" class=\"dataframe\">\n  <thead>\n    <tr style=\"text-align: right;\">\n      <th></th>\n      <th>Country Name</th>\n      <th>Country Code</th>\n      <th>Indicator Name</th>\n      <th>Indicator Code</th>\n      <th>1960</th>\n      <th>1961</th>\n      <th>1962</th>\n      <th>1963</th>\n      <th>1964</th>\n      <th>1965</th>\n      <th>...</th>\n      <th>2013</th>\n      <th>2014</th>\n      <th>2015</th>\n      <th>2016</th>\n      <th>2017</th>\n      <th>2018</th>\n      <th>2019</th>\n      <th>2020</th>\n      <th>2021</th>\n      <th>Unnamed: 66</th>\n    </tr>\n  </thead>\n  <tbody>\n    <tr>\n      <th>0</th>\n      <td>Aruba</td>\n      <td>ABW</td>\n      <td>Population, total</td>\n      <td>SP.POP.TOTL</td>\n      <td>54208.0</td>\n      <td>55434.0</td>\n      <td>56234.0</td>\n      <td>56699.0</td>\n      <td>57029.0</td>\n      <td>57357.0</td>\n      <td>...</td>\n      <td>103165.0</td>\n      <td>103776.0</td>\n      <td>104339.0</td>\n      <td>104865.0</td>\n      <td>105361.0</td>\n      <td>105846.0</td>\n      <td>106310.0</td>\n      <td>106766.0</td>\n      <td>107195.0</td>\n      <td>NaN</td>\n    </tr>\n    <tr>\n      <th>1</th>\n      <td>Africa Eastern and Southern</td>\n      <td>AFE</td>\n      <td>Population, total</td>\n      <td>SP.POP.TOTL</td>\n      <td>130836765.0</td>\n      <td>134159786.0</td>\n      <td>137614644.0</td>\n      <td>141202036.0</td>\n      <td>144920186.0</td>\n      <td>148769974.0</td>\n      <td>...</td>\n      <td>562601578.0</td>\n      <td>578075373.0</td>\n      <td>593871847.0</td>\n      <td>609978946.0</td>\n      <td>626392880.0</td>\n      <td>643090131.0</td>\n      <td>660046272.0</td>\n      <td>677243299.0</td>\n      <td>694665117.0</td>\n      <td>NaN</td>\n    </tr>\n    <tr>\n      <th>2</th>\n      <td>Afghanistan</td>\n      <td>AFG</td>\n      <td>Population, total</td>\n      <td>SP.POP.TOTL</td>\n      <td>8996967.0</td>\n      <td>9169406.0</td>\n      <td>9351442.0</td>\n      <td>9543200.0</td>\n      <td>9744772.0</td>\n      <td>9956318.0</td>\n      <td>...</td>\n      <td>32269592.0</td>\n      <td>33370804.0</td>\n      <td>34413603.0</td>\n      <td>35383028.0</td>\n      <td>36296111.0</td>\n      <td>37171922.0</td>\n      <td>38041757.0</td>\n      <td>38928341.0</td>\n      <td>39835428.0</td>\n      <td>NaN</td>\n    </tr>\n    <tr>\n      <th>3</th>\n      <td>Africa Western and Central</td>\n      <td>AFW</td>\n      <td>Population, total</td>\n      <td>SP.POP.TOTL</td>\n      <td>96396419.0</td>\n      <td>98407221.0</td>\n      <td>100506960.0</td>\n      <td>102691339.0</td>\n      <td>104953470.0</td>\n      <td>107289875.0</td>\n      <td>...</td>\n      <td>380437896.0</td>\n      <td>390882979.0</td>\n      <td>401586651.0</td>\n      <td>412551299.0</td>\n      <td>423769930.0</td>\n      <td>435229381.0</td>\n      <td>446911598.0</td>\n      <td>458803476.0</td>\n      <td>470898870.0</td>\n      <td>NaN</td>\n    </tr>\n    <tr>\n      <th>4</th>\n      <td>Angola</td>\n      <td>AGO</td>\n      <td>Population, total</td>\n      <td>SP.POP.TOTL</td>\n      <td>5454938.0</td>\n      <td>5531451.0</td>\n      <td>5608499.0</td>\n      <td>5679409.0</td>\n      <td>5734995.0</td>\n      <td>5770573.0</td>\n      <td>...</td>\n      <td>26015786.0</td>\n      <td>26941773.0</td>\n      <td>27884380.0</td>\n      <td>28842482.0</td>\n      <td>29816769.0</td>\n      <td>30809787.0</td>\n      <td>31825299.0</td>\n      <td>32866268.0</td>\n      <td>33933611.0</td>\n      <td>NaN</td>\n    </tr>\n  </tbody>\n</table>\n<p>5 rows × 67 columns</p>\n</div>"
     },
     "metadata": {},
     "output_type": "display_data"
    },
    {
     "data": {
      "text/plain": "   Year         Country  Total  Solid Fuel  Liquid Fuel  Gas Fuel  Cement  \\\n0  1751  UNITED KINGDOM   2552        2552            0         0       0   \n1  1752  UNITED KINGDOM   2553        2553            0         0       0   \n2  1753  UNITED KINGDOM   2553        2553            0         0       0   \n3  1754  UNITED KINGDOM   2554        2554            0         0       0   \n4  1755  UNITED KINGDOM   2555        2555            0         0       0   \n\n   Gas Flaring  Per Capita  Bunker fuels (Not in Total)  \n0            0         0.0                            0  \n1            0         0.0                            0  \n2            0         0.0                            0  \n3            0         0.0                            0  \n4            0         0.0                            0  ",
      "text/html": "<div>\n<style scoped>\n    .dataframe tbody tr th:only-of-type {\n        vertical-align: middle;\n    }\n\n    .dataframe tbody tr th {\n        vertical-align: top;\n    }\n\n    .dataframe thead th {\n        text-align: right;\n    }\n</style>\n<table border=\"1\" class=\"dataframe\">\n  <thead>\n    <tr style=\"text-align: right;\">\n      <th></th>\n      <th>Year</th>\n      <th>Country</th>\n      <th>Total</th>\n      <th>Solid Fuel</th>\n      <th>Liquid Fuel</th>\n      <th>Gas Fuel</th>\n      <th>Cement</th>\n      <th>Gas Flaring</th>\n      <th>Per Capita</th>\n      <th>Bunker fuels (Not in Total)</th>\n    </tr>\n  </thead>\n  <tbody>\n    <tr>\n      <th>0</th>\n      <td>1751</td>\n      <td>UNITED KINGDOM</td>\n      <td>2552</td>\n      <td>2552</td>\n      <td>0</td>\n      <td>0</td>\n      <td>0</td>\n      <td>0</td>\n      <td>0.0</td>\n      <td>0</td>\n    </tr>\n    <tr>\n      <th>1</th>\n      <td>1752</td>\n      <td>UNITED KINGDOM</td>\n      <td>2553</td>\n      <td>2553</td>\n      <td>0</td>\n      <td>0</td>\n      <td>0</td>\n      <td>0</td>\n      <td>0.0</td>\n      <td>0</td>\n    </tr>\n    <tr>\n      <th>2</th>\n      <td>1753</td>\n      <td>UNITED KINGDOM</td>\n      <td>2553</td>\n      <td>2553</td>\n      <td>0</td>\n      <td>0</td>\n      <td>0</td>\n      <td>0</td>\n      <td>0.0</td>\n      <td>0</td>\n    </tr>\n    <tr>\n      <th>3</th>\n      <td>1754</td>\n      <td>UNITED KINGDOM</td>\n      <td>2554</td>\n      <td>2554</td>\n      <td>0</td>\n      <td>0</td>\n      <td>0</td>\n      <td>0</td>\n      <td>0.0</td>\n      <td>0</td>\n    </tr>\n    <tr>\n      <th>4</th>\n      <td>1755</td>\n      <td>UNITED KINGDOM</td>\n      <td>2555</td>\n      <td>2555</td>\n      <td>0</td>\n      <td>0</td>\n      <td>0</td>\n      <td>0</td>\n      <td>0.0</td>\n      <td>0</td>\n    </tr>\n  </tbody>\n</table>\n</div>"
     },
     "metadata": {},
     "output_type": "display_data"
    },
    {
     "data": {
      "text/plain": "1980"
     },
     "metadata": {},
     "output_type": "display_data"
    },
    {
     "data": {
      "text/plain": "2005"
     },
     "metadata": {},
     "output_type": "display_data"
    }
   ],
   "source": [
    "#sprawdzenie wczyplików oraz zakresu lat\n",
    "display(gdp.head(), pop.head(), co2.head(), rangemin, rangemax)"
   ]
  },
  {
   "cell_type": "code",
   "execution_count": 6,
   "id": "0b502113-2f67-4616-95e7-fc143bb17abf",
   "metadata": {},
   "outputs": [
    {
     "data": {
      "text/plain": "['1980',\n '1981',\n '1982',\n '1983',\n '1984',\n '1985',\n '1986',\n '1987',\n '1988',\n '1989',\n '1990',\n '1991',\n '1992',\n '1993',\n '1994',\n '1995',\n '1996',\n '1997',\n '1998',\n '1999',\n '2000',\n '2001',\n '2002',\n '2003',\n '2004',\n '2005']"
     },
     "execution_count": 6,
     "metadata": {},
     "output_type": "execute_result"
    }
   ],
   "source": [
    "lata = dane.lata_scal(gdp, pop, co2, rangemin, rangemax)\n",
    "lata"
   ]
  },
  {
   "cell_type": "code",
   "execution_count": 7,
   "id": "52f22324-855e-4c64-896f-03065aea7975",
   "metadata": {},
   "outputs": [
    {
     "data": {
      "text/plain": "                  Country Name          1980          1981          1982  \\\n0                        Aruba           NaN           NaN           NaN   \n1  Africa Eastern and Southern  1.706543e+11  1.743870e+11  1.672663e+11   \n2                  Afghanistan  3.641723e+09  3.478788e+09           NaN   \n3   Africa Western and Central  1.120313e+11  2.110035e+11  1.871637e+11   \n4                       Angola  5.930503e+09  5.550483e+09  5.550483e+09   \n\n           1983          1984          1985          1986          1987  \\\n0           NaN           NaN           NaN  4.055866e+08  4.877095e+08   \n1  1.749180e+11  1.601340e+11  1.362973e+11  1.525183e+11  1.861446e+11   \n2           NaN           NaN           NaN           NaN           NaN   \n3  1.381152e+11  1.142627e+11  1.165073e+11  1.074975e+11  1.103218e+11   \n4  5.784342e+09  6.131475e+09  7.553560e+09  7.072063e+09  8.083872e+09   \n\n           1988  ...          1996          1997          1998          1999  \\\n0  5.966480e+08  ...  1.379888e+09  1.531844e+09  1.665363e+09  1.722905e+09   \n1  2.041398e+11  ...  2.684137e+11  2.821850e+11  2.658141e+11  2.621722e+11   \n2           NaN  ...           NaN           NaN           NaN           NaN   \n3  1.089435e+11  ...  1.257630e+11  1.270639e+11  1.301068e+11  1.375210e+11   \n4  8.769251e+09  ...  7.526447e+09  7.648377e+09  6.506230e+09  6.152923e+09   \n\n           2000          2001          2002          2003          2004  \\\n0  1.873184e+09  1.896648e+09  1.962011e+09  2.044134e+09  2.254749e+09   \n1  2.839254e+11  2.588186e+11  2.648698e+11  3.526585e+11  4.388338e+11   \n2           NaN           NaN  4.055180e+09  4.515559e+09  5.226779e+09   \n3  1.404103e+11  1.480128e+11  1.769380e+11  2.046445e+11  2.540926e+11   \n4  9.129595e+09  8.936064e+09  1.528559e+10  1.781270e+10  2.355205e+10   \n\n           2005  \n0  2.359777e+09  \n1  5.122111e+11  \n2  6.209138e+09  \n3  3.105575e+11  \n4  3.697092e+10  \n\n[5 rows x 27 columns]",
      "text/html": "<div>\n<style scoped>\n    .dataframe tbody tr th:only-of-type {\n        vertical-align: middle;\n    }\n\n    .dataframe tbody tr th {\n        vertical-align: top;\n    }\n\n    .dataframe thead th {\n        text-align: right;\n    }\n</style>\n<table border=\"1\" class=\"dataframe\">\n  <thead>\n    <tr style=\"text-align: right;\">\n      <th></th>\n      <th>Country Name</th>\n      <th>1980</th>\n      <th>1981</th>\n      <th>1982</th>\n      <th>1983</th>\n      <th>1984</th>\n      <th>1985</th>\n      <th>1986</th>\n      <th>1987</th>\n      <th>1988</th>\n      <th>...</th>\n      <th>1996</th>\n      <th>1997</th>\n      <th>1998</th>\n      <th>1999</th>\n      <th>2000</th>\n      <th>2001</th>\n      <th>2002</th>\n      <th>2003</th>\n      <th>2004</th>\n      <th>2005</th>\n    </tr>\n  </thead>\n  <tbody>\n    <tr>\n      <th>0</th>\n      <td>Aruba</td>\n      <td>NaN</td>\n      <td>NaN</td>\n      <td>NaN</td>\n      <td>NaN</td>\n      <td>NaN</td>\n      <td>NaN</td>\n      <td>4.055866e+08</td>\n      <td>4.877095e+08</td>\n      <td>5.966480e+08</td>\n      <td>...</td>\n      <td>1.379888e+09</td>\n      <td>1.531844e+09</td>\n      <td>1.665363e+09</td>\n      <td>1.722905e+09</td>\n      <td>1.873184e+09</td>\n      <td>1.896648e+09</td>\n      <td>1.962011e+09</td>\n      <td>2.044134e+09</td>\n      <td>2.254749e+09</td>\n      <td>2.359777e+09</td>\n    </tr>\n    <tr>\n      <th>1</th>\n      <td>Africa Eastern and Southern</td>\n      <td>1.706543e+11</td>\n      <td>1.743870e+11</td>\n      <td>1.672663e+11</td>\n      <td>1.749180e+11</td>\n      <td>1.601340e+11</td>\n      <td>1.362973e+11</td>\n      <td>1.525183e+11</td>\n      <td>1.861446e+11</td>\n      <td>2.041398e+11</td>\n      <td>...</td>\n      <td>2.684137e+11</td>\n      <td>2.821850e+11</td>\n      <td>2.658141e+11</td>\n      <td>2.621722e+11</td>\n      <td>2.839254e+11</td>\n      <td>2.588186e+11</td>\n      <td>2.648698e+11</td>\n      <td>3.526585e+11</td>\n      <td>4.388338e+11</td>\n      <td>5.122111e+11</td>\n    </tr>\n    <tr>\n      <th>2</th>\n      <td>Afghanistan</td>\n      <td>3.641723e+09</td>\n      <td>3.478788e+09</td>\n      <td>NaN</td>\n      <td>NaN</td>\n      <td>NaN</td>\n      <td>NaN</td>\n      <td>NaN</td>\n      <td>NaN</td>\n      <td>NaN</td>\n      <td>...</td>\n      <td>NaN</td>\n      <td>NaN</td>\n      <td>NaN</td>\n      <td>NaN</td>\n      <td>NaN</td>\n      <td>NaN</td>\n      <td>4.055180e+09</td>\n      <td>4.515559e+09</td>\n      <td>5.226779e+09</td>\n      <td>6.209138e+09</td>\n    </tr>\n    <tr>\n      <th>3</th>\n      <td>Africa Western and Central</td>\n      <td>1.120313e+11</td>\n      <td>2.110035e+11</td>\n      <td>1.871637e+11</td>\n      <td>1.381152e+11</td>\n      <td>1.142627e+11</td>\n      <td>1.165073e+11</td>\n      <td>1.074975e+11</td>\n      <td>1.103218e+11</td>\n      <td>1.089435e+11</td>\n      <td>...</td>\n      <td>1.257630e+11</td>\n      <td>1.270639e+11</td>\n      <td>1.301068e+11</td>\n      <td>1.375210e+11</td>\n      <td>1.404103e+11</td>\n      <td>1.480128e+11</td>\n      <td>1.769380e+11</td>\n      <td>2.046445e+11</td>\n      <td>2.540926e+11</td>\n      <td>3.105575e+11</td>\n    </tr>\n    <tr>\n      <th>4</th>\n      <td>Angola</td>\n      <td>5.930503e+09</td>\n      <td>5.550483e+09</td>\n      <td>5.550483e+09</td>\n      <td>5.784342e+09</td>\n      <td>6.131475e+09</td>\n      <td>7.553560e+09</td>\n      <td>7.072063e+09</td>\n      <td>8.083872e+09</td>\n      <td>8.769251e+09</td>\n      <td>...</td>\n      <td>7.526447e+09</td>\n      <td>7.648377e+09</td>\n      <td>6.506230e+09</td>\n      <td>6.152923e+09</td>\n      <td>9.129595e+09</td>\n      <td>8.936064e+09</td>\n      <td>1.528559e+10</td>\n      <td>1.781270e+10</td>\n      <td>2.355205e+10</td>\n      <td>3.697092e+10</td>\n    </tr>\n  </tbody>\n</table>\n<p>5 rows × 27 columns</p>\n</div>"
     },
     "metadata": {},
     "output_type": "display_data"
    },
    {
     "data": {
      "text/plain": "                  Country Name         1980         1981         1982  \\\n0                        Aruba      60097.0      60561.0      61341.0   \n1  Africa Eastern and Southern  227305945.0  234058404.0  240999134.0   \n2                  Afghanistan   13356500.0   13171679.0   12882518.0   \n3   Africa Western and Central  155882270.0  160223588.0  164689764.0   \n4                       Angola    8341290.0    8640478.0    8952971.0   \n\n          1983         1984         1985         1986         1987  \\\n0      62213.0      62826.0      63024.0      62645.0      61838.0   \n1  248146290.0  255530063.0  263161451.0  271050065.0  279184536.0   \n2   12537732.0   12204306.0   11938204.0   11736177.0   11604538.0   \n3  169279422.0  173991851.0  178826553.0  183785612.0  188868567.0   \n4    9278104.0    9614756.0    9961993.0   10320116.0   10689247.0   \n\n          1988  ...         1996         1997         1998         1999  \\\n0      61072.0  ...      83211.0      85450.0      87280.0      89009.0   \n1  287524258.0  ...  358953595.0  368440591.0  378098393.0  387977990.0   \n2   11618008.0  ...   18853444.0   19357126.0   19737770.0   20170847.0   \n3  194070079.0  ...  240114179.0  246613750.0  253302310.0  260170348.0   \n4   11068051.0  ...   14400722.0   14871572.0   15359600.0   15866871.0   \n\n          2000         2001         2002         2003         2004  \\\n0      90866.0      92892.0      94992.0      97016.0      98744.0   \n1  398113044.0  408522129.0  419223717.0  430246635.0  441630149.0   \n2   20779957.0   21606992.0   22600774.0   23680871.0   24726689.0   \n3  267214544.0  274433894.0  281842480.0  289469530.0  297353098.0   \n4   16395477.0   16945753.0   17519418.0   18121477.0   18758138.0   \n\n          2005  \n0     100028.0  \n1  453404076.0  \n2   25654274.0  \n3  305520588.0  \n4   19433604.0  \n\n[5 rows x 27 columns]",
      "text/html": "<div>\n<style scoped>\n    .dataframe tbody tr th:only-of-type {\n        vertical-align: middle;\n    }\n\n    .dataframe tbody tr th {\n        vertical-align: top;\n    }\n\n    .dataframe thead th {\n        text-align: right;\n    }\n</style>\n<table border=\"1\" class=\"dataframe\">\n  <thead>\n    <tr style=\"text-align: right;\">\n      <th></th>\n      <th>Country Name</th>\n      <th>1980</th>\n      <th>1981</th>\n      <th>1982</th>\n      <th>1983</th>\n      <th>1984</th>\n      <th>1985</th>\n      <th>1986</th>\n      <th>1987</th>\n      <th>1988</th>\n      <th>...</th>\n      <th>1996</th>\n      <th>1997</th>\n      <th>1998</th>\n      <th>1999</th>\n      <th>2000</th>\n      <th>2001</th>\n      <th>2002</th>\n      <th>2003</th>\n      <th>2004</th>\n      <th>2005</th>\n    </tr>\n  </thead>\n  <tbody>\n    <tr>\n      <th>0</th>\n      <td>Aruba</td>\n      <td>60097.0</td>\n      <td>60561.0</td>\n      <td>61341.0</td>\n      <td>62213.0</td>\n      <td>62826.0</td>\n      <td>63024.0</td>\n      <td>62645.0</td>\n      <td>61838.0</td>\n      <td>61072.0</td>\n      <td>...</td>\n      <td>83211.0</td>\n      <td>85450.0</td>\n      <td>87280.0</td>\n      <td>89009.0</td>\n      <td>90866.0</td>\n      <td>92892.0</td>\n      <td>94992.0</td>\n      <td>97016.0</td>\n      <td>98744.0</td>\n      <td>100028.0</td>\n    </tr>\n    <tr>\n      <th>1</th>\n      <td>Africa Eastern and Southern</td>\n      <td>227305945.0</td>\n      <td>234058404.0</td>\n      <td>240999134.0</td>\n      <td>248146290.0</td>\n      <td>255530063.0</td>\n      <td>263161451.0</td>\n      <td>271050065.0</td>\n      <td>279184536.0</td>\n      <td>287524258.0</td>\n      <td>...</td>\n      <td>358953595.0</td>\n      <td>368440591.0</td>\n      <td>378098393.0</td>\n      <td>387977990.0</td>\n      <td>398113044.0</td>\n      <td>408522129.0</td>\n      <td>419223717.0</td>\n      <td>430246635.0</td>\n      <td>441630149.0</td>\n      <td>453404076.0</td>\n    </tr>\n    <tr>\n      <th>2</th>\n      <td>Afghanistan</td>\n      <td>13356500.0</td>\n      <td>13171679.0</td>\n      <td>12882518.0</td>\n      <td>12537732.0</td>\n      <td>12204306.0</td>\n      <td>11938204.0</td>\n      <td>11736177.0</td>\n      <td>11604538.0</td>\n      <td>11618008.0</td>\n      <td>...</td>\n      <td>18853444.0</td>\n      <td>19357126.0</td>\n      <td>19737770.0</td>\n      <td>20170847.0</td>\n      <td>20779957.0</td>\n      <td>21606992.0</td>\n      <td>22600774.0</td>\n      <td>23680871.0</td>\n      <td>24726689.0</td>\n      <td>25654274.0</td>\n    </tr>\n    <tr>\n      <th>3</th>\n      <td>Africa Western and Central</td>\n      <td>155882270.0</td>\n      <td>160223588.0</td>\n      <td>164689764.0</td>\n      <td>169279422.0</td>\n      <td>173991851.0</td>\n      <td>178826553.0</td>\n      <td>183785612.0</td>\n      <td>188868567.0</td>\n      <td>194070079.0</td>\n      <td>...</td>\n      <td>240114179.0</td>\n      <td>246613750.0</td>\n      <td>253302310.0</td>\n      <td>260170348.0</td>\n      <td>267214544.0</td>\n      <td>274433894.0</td>\n      <td>281842480.0</td>\n      <td>289469530.0</td>\n      <td>297353098.0</td>\n      <td>305520588.0</td>\n    </tr>\n    <tr>\n      <th>4</th>\n      <td>Angola</td>\n      <td>8341290.0</td>\n      <td>8640478.0</td>\n      <td>8952971.0</td>\n      <td>9278104.0</td>\n      <td>9614756.0</td>\n      <td>9961993.0</td>\n      <td>10320116.0</td>\n      <td>10689247.0</td>\n      <td>11068051.0</td>\n      <td>...</td>\n      <td>14400722.0</td>\n      <td>14871572.0</td>\n      <td>15359600.0</td>\n      <td>15866871.0</td>\n      <td>16395477.0</td>\n      <td>16945753.0</td>\n      <td>17519418.0</td>\n      <td>18121477.0</td>\n      <td>18758138.0</td>\n      <td>19433604.0</td>\n    </tr>\n  </tbody>\n</table>\n<p>5 rows × 27 columns</p>\n</div>"
     },
     "metadata": {},
     "output_type": "display_data"
    },
    {
     "data": {
      "text/plain": "       Year            Country  Total  Solid Fuel  Liquid Fuel  Gas Fuel  \\\n10020  1980        AFGHANISTAN    480          86          252        51   \n10021  1980            ALBANIA   1410         634          429       211   \n10022  1980            ALGERIA  18140         439         5082      6954   \n10023  1980             ANGOLA   1458           0          725        40   \n10024  1980  ANTIGUA & BARBUDA     39           0           39         0   \n\n       Cement  Gas Flaring  Per Capita  Bunker fuels (Not in Total)  \n10020       7           83        0.03                           13  \n10021     136            0        0.53                            0  \n10022     565         5100        0.96                          581  \n10023      33          659        0.19                          329  \n10024       0            0        0.56                           47  ",
      "text/html": "<div>\n<style scoped>\n    .dataframe tbody tr th:only-of-type {\n        vertical-align: middle;\n    }\n\n    .dataframe tbody tr th {\n        vertical-align: top;\n    }\n\n    .dataframe thead th {\n        text-align: right;\n    }\n</style>\n<table border=\"1\" class=\"dataframe\">\n  <thead>\n    <tr style=\"text-align: right;\">\n      <th></th>\n      <th>Year</th>\n      <th>Country</th>\n      <th>Total</th>\n      <th>Solid Fuel</th>\n      <th>Liquid Fuel</th>\n      <th>Gas Fuel</th>\n      <th>Cement</th>\n      <th>Gas Flaring</th>\n      <th>Per Capita</th>\n      <th>Bunker fuels (Not in Total)</th>\n    </tr>\n  </thead>\n  <tbody>\n    <tr>\n      <th>10020</th>\n      <td>1980</td>\n      <td>AFGHANISTAN</td>\n      <td>480</td>\n      <td>86</td>\n      <td>252</td>\n      <td>51</td>\n      <td>7</td>\n      <td>83</td>\n      <td>0.03</td>\n      <td>13</td>\n    </tr>\n    <tr>\n      <th>10021</th>\n      <td>1980</td>\n      <td>ALBANIA</td>\n      <td>1410</td>\n      <td>634</td>\n      <td>429</td>\n      <td>211</td>\n      <td>136</td>\n      <td>0</td>\n      <td>0.53</td>\n      <td>0</td>\n    </tr>\n    <tr>\n      <th>10022</th>\n      <td>1980</td>\n      <td>ALGERIA</td>\n      <td>18140</td>\n      <td>439</td>\n      <td>5082</td>\n      <td>6954</td>\n      <td>565</td>\n      <td>5100</td>\n      <td>0.96</td>\n      <td>581</td>\n    </tr>\n    <tr>\n      <th>10023</th>\n      <td>1980</td>\n      <td>ANGOLA</td>\n      <td>1458</td>\n      <td>0</td>\n      <td>725</td>\n      <td>40</td>\n      <td>33</td>\n      <td>659</td>\n      <td>0.19</td>\n      <td>329</td>\n    </tr>\n    <tr>\n      <th>10024</th>\n      <td>1980</td>\n      <td>ANTIGUA &amp; BARBUDA</td>\n      <td>39</td>\n      <td>0</td>\n      <td>39</td>\n      <td>0</td>\n      <td>0</td>\n      <td>0</td>\n      <td>0.56</td>\n      <td>47</td>\n    </tr>\n  </tbody>\n</table>\n</div>"
     },
     "metadata": {},
     "output_type": "display_data"
    }
   ],
   "source": [
    "gdp, pop, co2 = dane.przerob(gdp, pop, co2, lata)\n",
    "display(gdp.head(), pop.head(), co2.head())"
   ]
  },
  {
   "cell_type": "code",
   "execution_count": 8,
   "id": "cc745c9a-0d2f-4f07-a449-f1c2b920af12",
   "metadata": {},
   "outputs": [
    {
     "data": {
      "text/plain": "                  Country Name          1980          1981          1982  \\\n0                        Aruba  4.536263e+11  4.637877e+11  4.548647e+11   \n1  Africa Eastern and Southern  1.706543e+11  1.743870e+11  1.672663e+11   \n2                  Afghanistan  3.641723e+09  3.478788e+09  4.548647e+11   \n3   Africa Western and Central  1.120313e+11  2.110035e+11  1.871637e+11   \n4                       Angola  5.930503e+09  5.550483e+09  5.550483e+09   \n\n           1983          1984          1985          1986          1987  \\\n0  4.546434e+11  4.642927e+11  4.802098e+11  4.055866e+08  4.877095e+08   \n1  1.749180e+11  1.601340e+11  1.362973e+11  1.525183e+11  1.861446e+11   \n2  4.546434e+11  4.642927e+11  4.802098e+11  5.560639e+11  6.163395e+11   \n3  1.381152e+11  1.142627e+11  1.165073e+11  1.074975e+11  1.103218e+11   \n4  5.784342e+09  6.131475e+09  7.553560e+09  7.072063e+09  8.083872e+09   \n\n           1988  ...          1996          1997          1998          1999  \\\n0  5.966480e+08  ...  1.379888e+09  1.531844e+09  1.665363e+09  1.722905e+09   \n1  2.041398e+11  ...  2.684137e+11  2.821850e+11  2.658141e+11  2.621722e+11   \n2  6.786112e+11  ...  9.817832e+11  9.806865e+11  9.698224e+11  9.925718e+11   \n3  1.089435e+11  ...  1.257630e+11  1.270639e+11  1.301068e+11  1.375210e+11   \n4  8.769251e+09  ...  7.526447e+09  7.648377e+09  6.506230e+09  6.152923e+09   \n\n           2000          2001          2002          2003          2004  \\\n0  1.873184e+09  1.896648e+09  1.962011e+09  2.044134e+09  2.254749e+09   \n1  2.839254e+11  2.588186e+11  2.648698e+11  3.526585e+11  4.388338e+11   \n2  1.009219e+12  1.002343e+12  4.055180e+09  4.515559e+09  5.226779e+09   \n3  1.404103e+11  1.480128e+11  1.769380e+11  2.046445e+11  2.540926e+11   \n4  9.129595e+09  8.936064e+09  1.528559e+10  1.781270e+10  2.355205e+10   \n\n           2005  \n0  2.359777e+09  \n1  5.122111e+11  \n2  6.209138e+09  \n3  3.105575e+11  \n4  3.697092e+10  \n\n[5 rows x 27 columns]",
      "text/html": "<div>\n<style scoped>\n    .dataframe tbody tr th:only-of-type {\n        vertical-align: middle;\n    }\n\n    .dataframe tbody tr th {\n        vertical-align: top;\n    }\n\n    .dataframe thead th {\n        text-align: right;\n    }\n</style>\n<table border=\"1\" class=\"dataframe\">\n  <thead>\n    <tr style=\"text-align: right;\">\n      <th></th>\n      <th>Country Name</th>\n      <th>1980</th>\n      <th>1981</th>\n      <th>1982</th>\n      <th>1983</th>\n      <th>1984</th>\n      <th>1985</th>\n      <th>1986</th>\n      <th>1987</th>\n      <th>1988</th>\n      <th>...</th>\n      <th>1996</th>\n      <th>1997</th>\n      <th>1998</th>\n      <th>1999</th>\n      <th>2000</th>\n      <th>2001</th>\n      <th>2002</th>\n      <th>2003</th>\n      <th>2004</th>\n      <th>2005</th>\n    </tr>\n  </thead>\n  <tbody>\n    <tr>\n      <th>0</th>\n      <td>Aruba</td>\n      <td>4.536263e+11</td>\n      <td>4.637877e+11</td>\n      <td>4.548647e+11</td>\n      <td>4.546434e+11</td>\n      <td>4.642927e+11</td>\n      <td>4.802098e+11</td>\n      <td>4.055866e+08</td>\n      <td>4.877095e+08</td>\n      <td>5.966480e+08</td>\n      <td>...</td>\n      <td>1.379888e+09</td>\n      <td>1.531844e+09</td>\n      <td>1.665363e+09</td>\n      <td>1.722905e+09</td>\n      <td>1.873184e+09</td>\n      <td>1.896648e+09</td>\n      <td>1.962011e+09</td>\n      <td>2.044134e+09</td>\n      <td>2.254749e+09</td>\n      <td>2.359777e+09</td>\n    </tr>\n    <tr>\n      <th>1</th>\n      <td>Africa Eastern and Southern</td>\n      <td>1.706543e+11</td>\n      <td>1.743870e+11</td>\n      <td>1.672663e+11</td>\n      <td>1.749180e+11</td>\n      <td>1.601340e+11</td>\n      <td>1.362973e+11</td>\n      <td>1.525183e+11</td>\n      <td>1.861446e+11</td>\n      <td>2.041398e+11</td>\n      <td>...</td>\n      <td>2.684137e+11</td>\n      <td>2.821850e+11</td>\n      <td>2.658141e+11</td>\n      <td>2.621722e+11</td>\n      <td>2.839254e+11</td>\n      <td>2.588186e+11</td>\n      <td>2.648698e+11</td>\n      <td>3.526585e+11</td>\n      <td>4.388338e+11</td>\n      <td>5.122111e+11</td>\n    </tr>\n    <tr>\n      <th>2</th>\n      <td>Afghanistan</td>\n      <td>3.641723e+09</td>\n      <td>3.478788e+09</td>\n      <td>4.548647e+11</td>\n      <td>4.546434e+11</td>\n      <td>4.642927e+11</td>\n      <td>4.802098e+11</td>\n      <td>5.560639e+11</td>\n      <td>6.163395e+11</td>\n      <td>6.786112e+11</td>\n      <td>...</td>\n      <td>9.817832e+11</td>\n      <td>9.806865e+11</td>\n      <td>9.698224e+11</td>\n      <td>9.925718e+11</td>\n      <td>1.009219e+12</td>\n      <td>1.002343e+12</td>\n      <td>4.055180e+09</td>\n      <td>4.515559e+09</td>\n      <td>5.226779e+09</td>\n      <td>6.209138e+09</td>\n    </tr>\n    <tr>\n      <th>3</th>\n      <td>Africa Western and Central</td>\n      <td>1.120313e+11</td>\n      <td>2.110035e+11</td>\n      <td>1.871637e+11</td>\n      <td>1.381152e+11</td>\n      <td>1.142627e+11</td>\n      <td>1.165073e+11</td>\n      <td>1.074975e+11</td>\n      <td>1.103218e+11</td>\n      <td>1.089435e+11</td>\n      <td>...</td>\n      <td>1.257630e+11</td>\n      <td>1.270639e+11</td>\n      <td>1.301068e+11</td>\n      <td>1.375210e+11</td>\n      <td>1.404103e+11</td>\n      <td>1.480128e+11</td>\n      <td>1.769380e+11</td>\n      <td>2.046445e+11</td>\n      <td>2.540926e+11</td>\n      <td>3.105575e+11</td>\n    </tr>\n    <tr>\n      <th>4</th>\n      <td>Angola</td>\n      <td>5.930503e+09</td>\n      <td>5.550483e+09</td>\n      <td>5.550483e+09</td>\n      <td>5.784342e+09</td>\n      <td>6.131475e+09</td>\n      <td>7.553560e+09</td>\n      <td>7.072063e+09</td>\n      <td>8.083872e+09</td>\n      <td>8.769251e+09</td>\n      <td>...</td>\n      <td>7.526447e+09</td>\n      <td>7.648377e+09</td>\n      <td>6.506230e+09</td>\n      <td>6.152923e+09</td>\n      <td>9.129595e+09</td>\n      <td>8.936064e+09</td>\n      <td>1.528559e+10</td>\n      <td>1.781270e+10</td>\n      <td>2.355205e+10</td>\n      <td>3.697092e+10</td>\n    </tr>\n  </tbody>\n</table>\n<p>5 rows × 27 columns</p>\n</div>"
     },
     "metadata": {},
     "output_type": "display_data"
    },
    {
     "data": {
      "text/plain": "                  Country Name         1980         1981         1982  \\\n0                        Aruba      60097.0      60561.0      61341.0   \n1  Africa Eastern and Southern  227305945.0  234058404.0  240999134.0   \n2                  Afghanistan   13356500.0   13171679.0   12882518.0   \n3   Africa Western and Central  155882270.0  160223588.0  164689764.0   \n4                       Angola    8341290.0    8640478.0    8952971.0   \n\n          1983         1984         1985         1986         1987  \\\n0      62213.0      62826.0      63024.0      62645.0      61838.0   \n1  248146290.0  255530063.0  263161451.0  271050065.0  279184536.0   \n2   12537732.0   12204306.0   11938204.0   11736177.0   11604538.0   \n3  169279422.0  173991851.0  178826553.0  183785612.0  188868567.0   \n4    9278104.0    9614756.0    9961993.0   10320116.0   10689247.0   \n\n          1988  ...         1996         1997         1998         1999  \\\n0      61072.0  ...      83211.0      85450.0      87280.0      89009.0   \n1  287524258.0  ...  358953595.0  368440591.0  378098393.0  387977990.0   \n2   11618008.0  ...   18853444.0   19357126.0   19737770.0   20170847.0   \n3  194070079.0  ...  240114179.0  246613750.0  253302310.0  260170348.0   \n4   11068051.0  ...   14400722.0   14871572.0   15359600.0   15866871.0   \n\n          2000         2001         2002         2003         2004  \\\n0      90866.0      92892.0      94992.0      97016.0      98744.0   \n1  398113044.0  408522129.0  419223717.0  430246635.0  441630149.0   \n2   20779957.0   21606992.0   22600774.0   23680871.0   24726689.0   \n3  267214544.0  274433894.0  281842480.0  289469530.0  297353098.0   \n4   16395477.0   16945753.0   17519418.0   18121477.0   18758138.0   \n\n          2005  \n0     100028.0  \n1  453404076.0  \n2   25654274.0  \n3  305520588.0  \n4   19433604.0  \n\n[5 rows x 27 columns]",
      "text/html": "<div>\n<style scoped>\n    .dataframe tbody tr th:only-of-type {\n        vertical-align: middle;\n    }\n\n    .dataframe tbody tr th {\n        vertical-align: top;\n    }\n\n    .dataframe thead th {\n        text-align: right;\n    }\n</style>\n<table border=\"1\" class=\"dataframe\">\n  <thead>\n    <tr style=\"text-align: right;\">\n      <th></th>\n      <th>Country Name</th>\n      <th>1980</th>\n      <th>1981</th>\n      <th>1982</th>\n      <th>1983</th>\n      <th>1984</th>\n      <th>1985</th>\n      <th>1986</th>\n      <th>1987</th>\n      <th>1988</th>\n      <th>...</th>\n      <th>1996</th>\n      <th>1997</th>\n      <th>1998</th>\n      <th>1999</th>\n      <th>2000</th>\n      <th>2001</th>\n      <th>2002</th>\n      <th>2003</th>\n      <th>2004</th>\n      <th>2005</th>\n    </tr>\n  </thead>\n  <tbody>\n    <tr>\n      <th>0</th>\n      <td>Aruba</td>\n      <td>60097.0</td>\n      <td>60561.0</td>\n      <td>61341.0</td>\n      <td>62213.0</td>\n      <td>62826.0</td>\n      <td>63024.0</td>\n      <td>62645.0</td>\n      <td>61838.0</td>\n      <td>61072.0</td>\n      <td>...</td>\n      <td>83211.0</td>\n      <td>85450.0</td>\n      <td>87280.0</td>\n      <td>89009.0</td>\n      <td>90866.0</td>\n      <td>92892.0</td>\n      <td>94992.0</td>\n      <td>97016.0</td>\n      <td>98744.0</td>\n      <td>100028.0</td>\n    </tr>\n    <tr>\n      <th>1</th>\n      <td>Africa Eastern and Southern</td>\n      <td>227305945.0</td>\n      <td>234058404.0</td>\n      <td>240999134.0</td>\n      <td>248146290.0</td>\n      <td>255530063.0</td>\n      <td>263161451.0</td>\n      <td>271050065.0</td>\n      <td>279184536.0</td>\n      <td>287524258.0</td>\n      <td>...</td>\n      <td>358953595.0</td>\n      <td>368440591.0</td>\n      <td>378098393.0</td>\n      <td>387977990.0</td>\n      <td>398113044.0</td>\n      <td>408522129.0</td>\n      <td>419223717.0</td>\n      <td>430246635.0</td>\n      <td>441630149.0</td>\n      <td>453404076.0</td>\n    </tr>\n    <tr>\n      <th>2</th>\n      <td>Afghanistan</td>\n      <td>13356500.0</td>\n      <td>13171679.0</td>\n      <td>12882518.0</td>\n      <td>12537732.0</td>\n      <td>12204306.0</td>\n      <td>11938204.0</td>\n      <td>11736177.0</td>\n      <td>11604538.0</td>\n      <td>11618008.0</td>\n      <td>...</td>\n      <td>18853444.0</td>\n      <td>19357126.0</td>\n      <td>19737770.0</td>\n      <td>20170847.0</td>\n      <td>20779957.0</td>\n      <td>21606992.0</td>\n      <td>22600774.0</td>\n      <td>23680871.0</td>\n      <td>24726689.0</td>\n      <td>25654274.0</td>\n    </tr>\n    <tr>\n      <th>3</th>\n      <td>Africa Western and Central</td>\n      <td>155882270.0</td>\n      <td>160223588.0</td>\n      <td>164689764.0</td>\n      <td>169279422.0</td>\n      <td>173991851.0</td>\n      <td>178826553.0</td>\n      <td>183785612.0</td>\n      <td>188868567.0</td>\n      <td>194070079.0</td>\n      <td>...</td>\n      <td>240114179.0</td>\n      <td>246613750.0</td>\n      <td>253302310.0</td>\n      <td>260170348.0</td>\n      <td>267214544.0</td>\n      <td>274433894.0</td>\n      <td>281842480.0</td>\n      <td>289469530.0</td>\n      <td>297353098.0</td>\n      <td>305520588.0</td>\n    </tr>\n    <tr>\n      <th>4</th>\n      <td>Angola</td>\n      <td>8341290.0</td>\n      <td>8640478.0</td>\n      <td>8952971.0</td>\n      <td>9278104.0</td>\n      <td>9614756.0</td>\n      <td>9961993.0</td>\n      <td>10320116.0</td>\n      <td>10689247.0</td>\n      <td>11068051.0</td>\n      <td>...</td>\n      <td>14400722.0</td>\n      <td>14871572.0</td>\n      <td>15359600.0</td>\n      <td>15866871.0</td>\n      <td>16395477.0</td>\n      <td>16945753.0</td>\n      <td>17519418.0</td>\n      <td>18121477.0</td>\n      <td>18758138.0</td>\n      <td>19433604.0</td>\n    </tr>\n  </tbody>\n</table>\n<p>5 rows × 27 columns</p>\n</div>"
     },
     "metadata": {},
     "output_type": "display_data"
    },
    {
     "data": {
      "text/plain": "       Year            Country  Total  Solid Fuel  Liquid Fuel  Gas Fuel  \\\n10020  1980        AFGHANISTAN    480          86          252        51   \n10021  1980            ALBANIA   1410         634          429       211   \n10022  1980            ALGERIA  18140         439         5082      6954   \n10023  1980             ANGOLA   1458           0          725        40   \n10024  1980  ANTIGUA & BARBUDA     39           0           39         0   \n\n       Cement  Gas Flaring  Per Capita  Bunker fuels (Not in Total)  \n10020       7           83        0.03                           13  \n10021     136            0        0.53                            0  \n10022     565         5100        0.96                          581  \n10023      33          659        0.19                          329  \n10024       0            0        0.56                           47  ",
      "text/html": "<div>\n<style scoped>\n    .dataframe tbody tr th:only-of-type {\n        vertical-align: middle;\n    }\n\n    .dataframe tbody tr th {\n        vertical-align: top;\n    }\n\n    .dataframe thead th {\n        text-align: right;\n    }\n</style>\n<table border=\"1\" class=\"dataframe\">\n  <thead>\n    <tr style=\"text-align: right;\">\n      <th></th>\n      <th>Year</th>\n      <th>Country</th>\n      <th>Total</th>\n      <th>Solid Fuel</th>\n      <th>Liquid Fuel</th>\n      <th>Gas Fuel</th>\n      <th>Cement</th>\n      <th>Gas Flaring</th>\n      <th>Per Capita</th>\n      <th>Bunker fuels (Not in Total)</th>\n    </tr>\n  </thead>\n  <tbody>\n    <tr>\n      <th>10020</th>\n      <td>1980</td>\n      <td>AFGHANISTAN</td>\n      <td>480</td>\n      <td>86</td>\n      <td>252</td>\n      <td>51</td>\n      <td>7</td>\n      <td>83</td>\n      <td>0.03</td>\n      <td>13</td>\n    </tr>\n    <tr>\n      <th>10021</th>\n      <td>1980</td>\n      <td>ALBANIA</td>\n      <td>1410</td>\n      <td>634</td>\n      <td>429</td>\n      <td>211</td>\n      <td>136</td>\n      <td>0</td>\n      <td>0.53</td>\n      <td>0</td>\n    </tr>\n    <tr>\n      <th>10022</th>\n      <td>1980</td>\n      <td>ALGERIA</td>\n      <td>18140</td>\n      <td>439</td>\n      <td>5082</td>\n      <td>6954</td>\n      <td>565</td>\n      <td>5100</td>\n      <td>0.96</td>\n      <td>581</td>\n    </tr>\n    <tr>\n      <th>10023</th>\n      <td>1980</td>\n      <td>ANGOLA</td>\n      <td>1458</td>\n      <td>0</td>\n      <td>725</td>\n      <td>40</td>\n      <td>33</td>\n      <td>659</td>\n      <td>0.19</td>\n      <td>329</td>\n    </tr>\n    <tr>\n      <th>10024</th>\n      <td>1980</td>\n      <td>ANTIGUA &amp; BARBUDA</td>\n      <td>39</td>\n      <td>0</td>\n      <td>39</td>\n      <td>0</td>\n      <td>0</td>\n      <td>0</td>\n      <td>0.56</td>\n      <td>47</td>\n    </tr>\n  </tbody>\n</table>\n</div>"
     },
     "metadata": {},
     "output_type": "display_data"
    }
   ],
   "source": [
    "gdp, pop, co2 = dane.oczysc(gdp, pop, co2)\n",
    "display(gdp.head(), pop.head(), co2.head())"
   ]
  },
  {
   "cell_type": "code",
   "execution_count": 9,
   "id": "a456fe01-2b4a-4479-8ab0-658ca8e67850",
   "metadata": {},
   "outputs": [
    {
     "data": {
      "text/plain": "                Country  Year           GDP  Population  Total  Solid Fuel  \\\n0           AFGHANISTAN  1980  3.641723e+09  13356500.0    480          86   \n1                ANGOLA  1980  5.930503e+09   8341290.0   1458           0   \n2               ALBANIA  1980  4.536263e+11   2671997.0   1410         634   \n3  UNITED ARAB EMIRATES  1980  4.359875e+10   1019507.0  10064           0   \n4             ARGENTINA  1980  7.696192e+10  27896532.0  29653         782   \n\n   Liquid Fuel  Gas Fuel  Cement  Gas Flaring  Per Capita  \\\n0          252        51       7           83        0.03   \n1          725        40      33          659        0.19   \n2          429       211     136            0        0.53   \n3         2460      2395     234         4976        9.90   \n4        20881      5340     970         1680        1.05   \n\n   Bunker fuels (Not in Total)  \n0                           13  \n1                          329  \n2                            0  \n3                          507  \n4                          383  ",
      "text/html": "<div>\n<style scoped>\n    .dataframe tbody tr th:only-of-type {\n        vertical-align: middle;\n    }\n\n    .dataframe tbody tr th {\n        vertical-align: top;\n    }\n\n    .dataframe thead th {\n        text-align: right;\n    }\n</style>\n<table border=\"1\" class=\"dataframe\">\n  <thead>\n    <tr style=\"text-align: right;\">\n      <th></th>\n      <th>Country</th>\n      <th>Year</th>\n      <th>GDP</th>\n      <th>Population</th>\n      <th>Total</th>\n      <th>Solid Fuel</th>\n      <th>Liquid Fuel</th>\n      <th>Gas Fuel</th>\n      <th>Cement</th>\n      <th>Gas Flaring</th>\n      <th>Per Capita</th>\n      <th>Bunker fuels (Not in Total)</th>\n    </tr>\n  </thead>\n  <tbody>\n    <tr>\n      <th>0</th>\n      <td>AFGHANISTAN</td>\n      <td>1980</td>\n      <td>3.641723e+09</td>\n      <td>13356500.0</td>\n      <td>480</td>\n      <td>86</td>\n      <td>252</td>\n      <td>51</td>\n      <td>7</td>\n      <td>83</td>\n      <td>0.03</td>\n      <td>13</td>\n    </tr>\n    <tr>\n      <th>1</th>\n      <td>ANGOLA</td>\n      <td>1980</td>\n      <td>5.930503e+09</td>\n      <td>8341290.0</td>\n      <td>1458</td>\n      <td>0</td>\n      <td>725</td>\n      <td>40</td>\n      <td>33</td>\n      <td>659</td>\n      <td>0.19</td>\n      <td>329</td>\n    </tr>\n    <tr>\n      <th>2</th>\n      <td>ALBANIA</td>\n      <td>1980</td>\n      <td>4.536263e+11</td>\n      <td>2671997.0</td>\n      <td>1410</td>\n      <td>634</td>\n      <td>429</td>\n      <td>211</td>\n      <td>136</td>\n      <td>0</td>\n      <td>0.53</td>\n      <td>0</td>\n    </tr>\n    <tr>\n      <th>3</th>\n      <td>UNITED ARAB EMIRATES</td>\n      <td>1980</td>\n      <td>4.359875e+10</td>\n      <td>1019507.0</td>\n      <td>10064</td>\n      <td>0</td>\n      <td>2460</td>\n      <td>2395</td>\n      <td>234</td>\n      <td>4976</td>\n      <td>9.90</td>\n      <td>507</td>\n    </tr>\n    <tr>\n      <th>4</th>\n      <td>ARGENTINA</td>\n      <td>1980</td>\n      <td>7.696192e+10</td>\n      <td>27896532.0</td>\n      <td>29653</td>\n      <td>782</td>\n      <td>20881</td>\n      <td>5340</td>\n      <td>970</td>\n      <td>1680</td>\n      <td>1.05</td>\n      <td>383</td>\n    </tr>\n  </tbody>\n</table>\n</div>"
     },
     "metadata": {},
     "output_type": "display_data"
    }
   ],
   "source": [
    "data = dane.scal(gdp, pop, co2)\n",
    "display(data.head())"
   ]
  },
  {
   "cell_type": "code",
   "execution_count": 10,
   "id": "1a34148e-1aeb-4032-9870-19266401b962",
   "metadata": {},
   "outputs": [
    {
     "data": {
      "text/plain": "                        Country  Per Capita  Total\nYear                                              \n1980 124                  QATAR       16.12   3572\n     15                 BAHAMAS       10.35   2179\n     21       BRUNEI DARUSSALAM        9.91   1877\n     3     UNITED ARAB EMIRATES        9.90  10064\n     90              LUXEMBOURG        8.26   3007\n...                         ...         ...    ...\n2005 4591                 QATAR       16.93  13896\n     4544                KUWAIT        8.62  19511\n     4618   TRINIDAD AND TOBAGO        7.91  10404\n     4449  UNITED ARAB EMIRATES        7.78  31674\n     4444                 ARUBA        7.34    742\n\n[130 rows x 3 columns]",
      "text/html": "<div>\n<style scoped>\n    .dataframe tbody tr th:only-of-type {\n        vertical-align: middle;\n    }\n\n    .dataframe tbody tr th {\n        vertical-align: top;\n    }\n\n    .dataframe thead th {\n        text-align: right;\n    }\n</style>\n<table border=\"1\" class=\"dataframe\">\n  <thead>\n    <tr style=\"text-align: right;\">\n      <th></th>\n      <th></th>\n      <th>Country</th>\n      <th>Per Capita</th>\n      <th>Total</th>\n    </tr>\n    <tr>\n      <th>Year</th>\n      <th></th>\n      <th></th>\n      <th></th>\n      <th></th>\n    </tr>\n  </thead>\n  <tbody>\n    <tr>\n      <th rowspan=\"5\" valign=\"top\">1980</th>\n      <th>124</th>\n      <td>QATAR</td>\n      <td>16.12</td>\n      <td>3572</td>\n    </tr>\n    <tr>\n      <th>15</th>\n      <td>BAHAMAS</td>\n      <td>10.35</td>\n      <td>2179</td>\n    </tr>\n    <tr>\n      <th>21</th>\n      <td>BRUNEI DARUSSALAM</td>\n      <td>9.91</td>\n      <td>1877</td>\n    </tr>\n    <tr>\n      <th>3</th>\n      <td>UNITED ARAB EMIRATES</td>\n      <td>9.90</td>\n      <td>10064</td>\n    </tr>\n    <tr>\n      <th>90</th>\n      <td>LUXEMBOURG</td>\n      <td>8.26</td>\n      <td>3007</td>\n    </tr>\n    <tr>\n      <th>...</th>\n      <th>...</th>\n      <td>...</td>\n      <td>...</td>\n      <td>...</td>\n    </tr>\n    <tr>\n      <th rowspan=\"5\" valign=\"top\">2005</th>\n      <th>4591</th>\n      <td>QATAR</td>\n      <td>16.93</td>\n      <td>13896</td>\n    </tr>\n    <tr>\n      <th>4544</th>\n      <td>KUWAIT</td>\n      <td>8.62</td>\n      <td>19511</td>\n    </tr>\n    <tr>\n      <th>4618</th>\n      <td>TRINIDAD AND TOBAGO</td>\n      <td>7.91</td>\n      <td>10404</td>\n    </tr>\n    <tr>\n      <th>4449</th>\n      <td>UNITED ARAB EMIRATES</td>\n      <td>7.78</td>\n      <td>31674</td>\n    </tr>\n    <tr>\n      <th>4444</th>\n      <td>ARUBA</td>\n      <td>7.34</td>\n      <td>742</td>\n    </tr>\n  </tbody>\n</table>\n<p>130 rows × 3 columns</p>\n</div>"
     },
     "metadata": {},
     "output_type": "display_data"
    }
   ],
   "source": [
    "display(analizy.max_co2_per_capita(data))"
   ]
  },
  {
   "cell_type": "code",
   "execution_count": 11,
   "id": "45a747d4-347d-4fb9-ab88-5c67b118f29a",
   "metadata": {},
   "outputs": [
    {
     "data": {
      "text/plain": "                          Country  GDP per capita           GDP\nYear                                                           \n1980 112                    NAURU    5.852488e+07  4.536263e+11\n     153   BRITISH VIRGIN ISLANDS    3.954549e+07  4.536263e+11\n     38            CAYMAN ISLANDS    2.798953e+07  4.536263e+11\n     56                 GIBRALTAR    1.508668e+07  4.536263e+11\n     52             FAROE ISLANDS    1.046693e+07  4.536263e+11\n...                           ...             ...           ...\n2005 4578                   NAURU    1.458587e+08  1.436416e+12\n     4630  BRITISH VIRGIN ISLANDS    6.216638e+07  1.436416e+12\n     4511               GIBRALTAR    4.323690e+07  1.436416e+12\n     4488          CAYMAN ISLANDS    2.915930e+07  1.436416e+12\n     4590        FRENCH POLYNESIA    5.550724e+06  1.436416e+12\n\n[130 rows x 3 columns]",
      "text/html": "<div>\n<style scoped>\n    .dataframe tbody tr th:only-of-type {\n        vertical-align: middle;\n    }\n\n    .dataframe tbody tr th {\n        vertical-align: top;\n    }\n\n    .dataframe thead th {\n        text-align: right;\n    }\n</style>\n<table border=\"1\" class=\"dataframe\">\n  <thead>\n    <tr style=\"text-align: right;\">\n      <th></th>\n      <th></th>\n      <th>Country</th>\n      <th>GDP per capita</th>\n      <th>GDP</th>\n    </tr>\n    <tr>\n      <th>Year</th>\n      <th></th>\n      <th></th>\n      <th></th>\n      <th></th>\n    </tr>\n  </thead>\n  <tbody>\n    <tr>\n      <th rowspan=\"5\" valign=\"top\">1980</th>\n      <th>112</th>\n      <td>NAURU</td>\n      <td>5.852488e+07</td>\n      <td>4.536263e+11</td>\n    </tr>\n    <tr>\n      <th>153</th>\n      <td>BRITISH VIRGIN ISLANDS</td>\n      <td>3.954549e+07</td>\n      <td>4.536263e+11</td>\n    </tr>\n    <tr>\n      <th>38</th>\n      <td>CAYMAN ISLANDS</td>\n      <td>2.798953e+07</td>\n      <td>4.536263e+11</td>\n    </tr>\n    <tr>\n      <th>56</th>\n      <td>GIBRALTAR</td>\n      <td>1.508668e+07</td>\n      <td>4.536263e+11</td>\n    </tr>\n    <tr>\n      <th>52</th>\n      <td>FAROE ISLANDS</td>\n      <td>1.046693e+07</td>\n      <td>4.536263e+11</td>\n    </tr>\n    <tr>\n      <th>...</th>\n      <th>...</th>\n      <td>...</td>\n      <td>...</td>\n      <td>...</td>\n    </tr>\n    <tr>\n      <th rowspan=\"5\" valign=\"top\">2005</th>\n      <th>4578</th>\n      <td>NAURU</td>\n      <td>1.458587e+08</td>\n      <td>1.436416e+12</td>\n    </tr>\n    <tr>\n      <th>4630</th>\n      <td>BRITISH VIRGIN ISLANDS</td>\n      <td>6.216638e+07</td>\n      <td>1.436416e+12</td>\n    </tr>\n    <tr>\n      <th>4511</th>\n      <td>GIBRALTAR</td>\n      <td>4.323690e+07</td>\n      <td>1.436416e+12</td>\n    </tr>\n    <tr>\n      <th>4488</th>\n      <td>CAYMAN ISLANDS</td>\n      <td>2.915930e+07</td>\n      <td>1.436416e+12</td>\n    </tr>\n    <tr>\n      <th>4590</th>\n      <td>FRENCH POLYNESIA</td>\n      <td>5.550724e+06</td>\n      <td>1.436416e+12</td>\n    </tr>\n  </tbody>\n</table>\n<p>130 rows × 3 columns</p>\n</div>"
     },
     "metadata": {},
     "output_type": "display_data"
    }
   ],
   "source": [
    "display(analizy.max_gdp_per_capita(data))"
   ]
  },
  {
   "cell_type": "code",
   "execution_count": 12,
   "id": "e1790401-2868-48dd-953a-666aab84d65a",
   "metadata": {},
   "outputs": [],
   "source": [
    "gora, dol = analizy.co2_change_per_capita(data, rangemin, rangemax)"
   ]
  },
  {
   "cell_type": "code",
   "execution_count": 13,
   "id": "e70cb225-76ff-4c35-a408-8837ba7c692b",
   "metadata": {},
   "outputs": [
    {
     "data": {
      "text/plain": "Year                 1995  2005  change\nCountry                                \nTRINIDAD AND TOBAGO  3.68  7.91    4.23\nEQUATORIAL GUINEA    0.08  2.11    2.03\nARUBA                5.66  7.34    1.68\nSEYCHELLES           0.73  2.26    1.53\nOMAN                 1.94  3.36    1.42",
      "text/html": "<div>\n<style scoped>\n    .dataframe tbody tr th:only-of-type {\n        vertical-align: middle;\n    }\n\n    .dataframe tbody tr th {\n        vertical-align: top;\n    }\n\n    .dataframe thead th {\n        text-align: right;\n    }\n</style>\n<table border=\"1\" class=\"dataframe\">\n  <thead>\n    <tr style=\"text-align: right;\">\n      <th>Year</th>\n      <th>1995</th>\n      <th>2005</th>\n      <th>change</th>\n    </tr>\n    <tr>\n      <th>Country</th>\n      <th></th>\n      <th></th>\n      <th></th>\n    </tr>\n  </thead>\n  <tbody>\n    <tr>\n      <th>TRINIDAD AND TOBAGO</th>\n      <td>3.68</td>\n      <td>7.91</td>\n      <td>4.23</td>\n    </tr>\n    <tr>\n      <th>EQUATORIAL GUINEA</th>\n      <td>0.08</td>\n      <td>2.11</td>\n      <td>2.03</td>\n    </tr>\n    <tr>\n      <th>ARUBA</th>\n      <td>5.66</td>\n      <td>7.34</td>\n      <td>1.68</td>\n    </tr>\n    <tr>\n      <th>SEYCHELLES</th>\n      <td>0.73</td>\n      <td>2.26</td>\n      <td>1.53</td>\n    </tr>\n    <tr>\n      <th>OMAN</th>\n      <td>1.94</td>\n      <td>3.36</td>\n      <td>1.42</td>\n    </tr>\n  </tbody>\n</table>\n</div>"
     },
     "metadata": {},
     "output_type": "display_data"
    }
   ],
   "source": [
    "display(gora)"
   ]
  },
  {
   "cell_type": "code",
   "execution_count": 14,
   "id": "30c0c600-326a-4544-8720-ee6746462781",
   "metadata": {},
   "outputs": [
    {
     "data": {
      "text/plain": "Year               1995  2005  change\nCountry                              \nSINGAPORE          3.30  1.94   -1.36\nNAURU              2.94  1.66   -1.28\nBRUNEI DARUSSALAM  4.51  3.76   -0.75\nDENMARK            2.98  2.37   -0.61\nKUWAIT             9.18  8.62   -0.56",
      "text/html": "<div>\n<style scoped>\n    .dataframe tbody tr th:only-of-type {\n        vertical-align: middle;\n    }\n\n    .dataframe tbody tr th {\n        vertical-align: top;\n    }\n\n    .dataframe thead th {\n        text-align: right;\n    }\n</style>\n<table border=\"1\" class=\"dataframe\">\n  <thead>\n    <tr style=\"text-align: right;\">\n      <th>Year</th>\n      <th>1995</th>\n      <th>2005</th>\n      <th>change</th>\n    </tr>\n    <tr>\n      <th>Country</th>\n      <th></th>\n      <th></th>\n      <th></th>\n    </tr>\n  </thead>\n  <tbody>\n    <tr>\n      <th>SINGAPORE</th>\n      <td>3.30</td>\n      <td>1.94</td>\n      <td>-1.36</td>\n    </tr>\n    <tr>\n      <th>NAURU</th>\n      <td>2.94</td>\n      <td>1.66</td>\n      <td>-1.28</td>\n    </tr>\n    <tr>\n      <th>BRUNEI DARUSSALAM</th>\n      <td>4.51</td>\n      <td>3.76</td>\n      <td>-0.75</td>\n    </tr>\n    <tr>\n      <th>DENMARK</th>\n      <td>2.98</td>\n      <td>2.37</td>\n      <td>-0.61</td>\n    </tr>\n    <tr>\n      <th>KUWAIT</th>\n      <td>9.18</td>\n      <td>8.62</td>\n      <td>-0.56</td>\n    </tr>\n  </tbody>\n</table>\n</div>"
     },
     "metadata": {},
     "output_type": "display_data"
    }
   ],
   "source": [
    "display(dol)\n"
   ]
  }
 ],
 "metadata": {
  "kernelspec": {
   "display_name": "Python 3 (ipykernel)",
   "language": "python",
   "name": "python3"
  },
  "language_info": {
   "codemirror_mode": {
    "name": "ipython",
    "version": 3
   },
   "file_extension": ".py",
   "mimetype": "text/x-python",
   "name": "python",
   "nbconvert_exporter": "python",
   "pygments_lexer": "ipython3",
   "version": "3.9.2"
  }
 },
 "nbformat": 4,
 "nbformat_minor": 5
}
